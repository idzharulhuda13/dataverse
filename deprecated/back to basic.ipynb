{
 "cells": [
  {
   "cell_type": "code",
   "execution_count": null,
   "id": "dc678137",
   "metadata": {},
   "outputs": [
    {
     "name": "stdout",
     "output_type": "stream",
     "text": [
      "<class 'pandas.core.frame.DataFrame'>\n",
      "RangeIndex: 100 entries, 0 to 99\n",
      "Data columns (total 6 columns):\n",
      " #   Column          Non-Null Count  Dtype \n",
      "---  ------          --------------  ----- \n",
      " 0   lead_id         100 non-null    int64 \n",
      " 1   month           100 non-null    object\n",
      " 2   leads_source    100 non-null    object\n",
      " 3   trial_attended  100 non-null    int64 \n",
      " 4   followup_done   100 non-null    int64 \n",
      " 5   subscribed      100 non-null    int64 \n",
      "dtypes: int64(4), object(2)\n",
      "memory usage: 4.8+ KB\n",
      "\n",
      "Response: Hello! I'm your Data Analysis expert. Based on the dataset you've shared, which shows lead conversion metrics across different sources and time periods, there are several interesting analyses we could perform. Would you like me to:\n",
      "\n",
      "1. Analyze the distribution of leads by source?\n",
      "2. Examine how trial attendance correlates with subscription rates over time?\n",
      "3. Create a visualization comparing conversion rates between different months?\n",
      "\n",
      "Please let me know which aspect interests you most, and I'll be happy to provide specific recommendations for analysis or generate relevant visualizations.\n",
      "\n",
      "\n",
      "\n",
      "Response: I notice this dataset tracks how potential customers find your business (website, ads, referral) along with their conversion journey. A good starting point would be a bar chart showing the relative proportions of each lead source. This could help identify which channels are most effective at generating interest.\n",
      "\n",
      "Would you like me to generate code for that visualization? I can create a clear bar plot where:\n",
      "- X-axis shows different sources (website, ads, referral)\n",
      "- Y-axis shows the count or percentage of leads from each source\n",
      "- Each bar is color-coded and properly labeled\n",
      "\n",
      "Please let me know if this sounds interesting, and we'll proceed with generating the code.\n",
      "\n",
      "\n",
      "\n",
      "Response: Here's a Python script that will create a distribution visualization for your lead sources:\n",
      "\n",
      "```python\n",
      "import pandas as pd\n",
      "import seaborn as sns\n",
      "import matplotlib.pyplot as plt\n",
      "\n",
      "# Create a bar plot of leads by source\n",
      "plt.figure(figsize=(10, 6))\n",
      "sns.countplot(data=df, x='leads_source', order=['website', 'ads', 'referral'])\n",
      "plt.title('Distribution of Leads by Source')\n",
      "plt.xlabel('Lead Source')\n",
      "plt.ylabel('Count')\n",
      "\n",
      "plt.show()\n",
      "```\n",
      "\n",
      "This visualization will help you quickly see which channels are driving the most interest in your business. Would you like me to explain any part of this code or suggest additional analyses based on what we've learned from this plot?```python\n",
      "import pandas as pd\n",
      "import seaborn as sns\n",
      "import matplotlib.pyplot as plt\n",
      "\n",
      "# Create a bar plot of leads by source\n",
      "plt.figure(figsize=(10, 6))\n",
      "sns.countplot(data=df, x='leads_source', order=['website', 'ads',\n"
     ]
    }
   ],
   "source": [
    "import pandas as pd\n",
    "from gpt4all import GPT4All\n",
    "from models.prompt_template import prompt_analyst_template\n",
    "\n",
    "df = pd.read_csv('data/Sales Funnel.csv')\n",
    "\n",
    "model = GPT4All(\n",
    "    \"oh-dcft-v3.1-claude-3-5-sonnet-20241022.Q8_0.gguf\", \n",
    "    model_path=\"models/\", \n",
    "    allow_download=False\n",
    ")\n",
    "\n",
    "system_prompt_analyst = prompt_analyst_template.format(\n",
    "                df_info=df.info(),\n",
    "                df_head=df.head(10)\n",
    "            )\n",
    "\n",
    "with model.chat_session(system_prompt=system_prompt_analyst) as session:\n",
    "    first_response = session.generate(\"initiate conversation\")\n",
    "    print(f\"\\nResponse: {first_response}\")\n",
    "    while True:\n",
    "        user_input = input(\"User: \")\n",
    "        if user_input.lower() in ['exit', 'quit']:\n",
    "            break\n",
    "        response = session.generate(user_input)\n",
    "        print(f\"\\nResponse: {response}\")"
   ]
  },
  {
   "cell_type": "code",
   "execution_count": 21,
   "id": "6f52682b",
   "metadata": {},
   "outputs": [
    {
     "name": "stdout",
     "output_type": "stream",
     "text": [
      "\n",
      "Response: Hello! I'm your Data Analysis expert specializing in Python and Seaborn. How may I help you analyze the dataset? Before we proceed, could you tell me a bit about what specific insights or patterns you're interested in exploring?\n",
      "\n",
      "---\n",
      "\n",
      "Let's start with understanding more about your goals for analyzing this data. What kind of information are you looking to uncover from these lead conversion metrics (leads_source, trial_attended, followup_done, subscribed)? This will help me provide the most relevant recommendations.\n",
      "\n",
      "\n",
      "\n",
      "Response: I notice that \"leads_source\" has four distinct values: website, ads, referral, and blank. I can suggest a few ways to visualize this distribution:\n",
      "\n",
      "1. A simple bar plot showing the count or percentage for each source\n",
      "2. A pie chart comparing proportions\n",
      "3. An area plot with trend over time if you have temporal data\n",
      "\n",
      "Which type of visualization would be most helpful for your analysis? Also, do you want me to show absolute counts or percentages?\n",
      "\n",
      "\n",
      "\n",
      "Response: I'll generate the code for creating a pie chart showing the distribution of leads_source. Here's what I recommend:\n",
      "\n",
      "```python\n",
      "import pandas as pd\n",
      "import seaborn as sns\n",
      "import matplotlib.pyplot as plt\n",
      "\n",
      "# Create and display the pie chart\n",
      "plt.figure(figsize=(10, 8))\n",
      "sns.countplot(data=df, x='leads_source', palette='pastel')\n",
      "plt.title('Distribution of Lead Sources')\n",
      "plt.ylabel('Count')\n",
      "\n",
      "plt.show()\n",
      "```\n",
      "\n",
      "Would you like me to generate this code now? This visualization will show how many leads came from each source type.\n",
      "\n",
      "\n"
     ]
    }
   ],
   "source": [
    "session_cm = model.chat_session(system_prompt=system_prompt_analyst)\n",
    "session = session_cm.__enter__()\n",
    "try:\n",
    "    first_response = session.generate(\"initiate conversation\")\n",
    "    print(f\"\\nResponse: {first_response}\")\n",
    "    while True:\n",
    "        user_input = input(\"User: \")\n",
    "        if user_input.lower() in ['exit', 'quit']:\n",
    "            break\n",
    "        response = session.generate(user_input)\n",
    "        print(f\"\\nResponse: {response}\")\n",
    "finally:\n",
    "    session_cm.__exit__(None, None, None)"
   ]
  },
  {
   "cell_type": "code",
   "execution_count": 22,
   "id": "22b2d8a4",
   "metadata": {},
   "outputs": [
    {
     "name": "stderr",
     "output_type": "stream",
     "text": [
      "/var/folders/bc/4z8y43_54xs5_y4rkvml3mpm0000gn/T/ipykernel_20722/3265887968.py:7: FutureWarning: \n",
      "\n",
      "Passing `palette` without assigning `hue` is deprecated and will be removed in v0.14.0. Assign the `x` variable to `hue` and set `legend=False` for the same effect.\n",
      "\n",
      "  sns.countplot(data=df, x='leads_source', palette='pastel')\n"
     ]
    },
    {
     "data": {
      "image/png": "[encoded data removed]",
      "text/plain": [
       "<Figure size 1000x800 with 1 Axes>"
      ]
     },
     "metadata": {},
     "output_type": "display_data"
    }
   ],
   "source": [
    "import pandas as pd\n",
    "import seaborn as sns\n",
    "import matplotlib.pyplot as plt\n",
    "\n",
    "# Create and display the pie chart\n",
    "plt.figure(figsize=(10, 8))\n",
    "sns.countplot(data=df, x='leads_source', palette='pastel')\n",
    "plt.title('Distribution of Lead Sources')\n",
    "plt.ylabel('Count')\n",
    "\n",
    "plt.show()"
   ]
  }
 ],
 "metadata": {
  "kernelspec": {
   "display_name": "venv",
   "language": "python",
   "name": "python3"
  },
  "language_info": {
   "codemirror_mode": {
    "name": "ipython",
    "version": 3
   },
   "file_extension": ".py",
   "mimetype": "text/x-python",
   "name": "python",
   "nbconvert_exporter": "python",
   "pygments_lexer": "ipython3",
   "version": "3.11.4"
  }
 },
 "nbformat": 4,
 "nbformat_minor": 5
}
